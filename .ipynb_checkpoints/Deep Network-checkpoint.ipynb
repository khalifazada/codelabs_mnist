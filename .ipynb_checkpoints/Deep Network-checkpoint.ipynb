{
 "cells": [
  {
   "cell_type": "code",
   "execution_count": 7,
   "metadata": {
    "collapsed": false
   },
   "outputs": [
    {
     "name": "stdout",
     "output_type": "stream",
     "text": [
      "Extracting ..\\data\\train-images-idx3-ubyte.gz\n",
      "Extracting ..\\data\\train-labels-idx1-ubyte.gz\n",
      "Extracting ..\\data\\t10k-images-idx3-ubyte.gz\n",
      "Extracting ..\\data\\t10k-labels-idx1-ubyte.gz\n",
      "\n",
      "Test accuracy: 0.9103\n",
      "Test loss: 3076.79\n"
     ]
    }
   ],
   "source": [
    "import numpy as np\n",
    "import tensorflow as tf\n",
    "from tensorflow.contrib.learn.python.learn.datasets.mnist import read_data_sets\n",
    "\n",
    "mnist = read_data_sets(\"..\\data\", one_hot=True, reshape=False, validation_size=0)\n",
    "tf.set_random_seed(0)\n",
    "\n",
    "# Deep model with [input]->[200 neurons]->[100 neurons]->[output] network architecture\n",
    "#\n",
    "# An input of 100 28x28 pixel images will enter the network here\n",
    "X = tf.placeholder(tf.float32, [None, 28, 28, 1]) \n",
    "\n",
    "# 100 images reshaped to a [100x784] matrix\n",
    "X_ = tf.reshape(X, [-1, 784]) # \"-1\" = preserves total number of elements\n",
    "\n",
    "# first hidden layer with 200 neurons \n",
    "W1 = tf.Variable(tf.truncated_normal([784, 200], stddev=0.1)) # weights\n",
    "b1 = tf.Variable(tf.zeros([200])) # biases\n",
    "Y1 = tf.nn.sigmoid(tf.matmul(X_, W1) + b1) # [100x784]*[784x200]+b1 -> [100x200]\n",
    "\n",
    "# second hidden layer with 100 neurons\n",
    "W2 = tf.Variable(tf.truncated_normal([200, 100], stddev=0.1)) # weights\n",
    "b2 = tf.Variable(tf.zeros([100])) # biases\n",
    "Y2 = tf.nn.sigmoid(tf.matmul(Y1, W2) + b2) # [100x200]*[200x100]+b2 -> [100x100]\n",
    "\n",
    "# final output layer\n",
    "W3 = tf.Variable(tf.truncated_normal([100, 10], stddev=0.1)) # weights\n",
    "b3 = tf.Variable(tf.zeros([10])) # biases\n",
    "Y = tf.nn.softmax(tf.matmul(Y2, W3) + b3) # [100x100]*[100x10]+b3 -> [100x10]\n",
    "\n",
    "# determine optimization method\n",
    "Y_ = tf.placeholder(tf.float32, [None, 10]) # actual correct results\n",
    "cross_entropy = -tf.reduce_sum(Y_ * tf.log(Y)) # loss function\n",
    "eta = 0.003 # learning rate\n",
    "optimizer = tf.train.GradientDescentOptimizer(eta) \n",
    "train_step = optimizer.minimize(cross_entropy)\n",
    "\n",
    "# train the model\n",
    "init = tf.global_variables_initializer()\n",
    "sess = tf.Session() # create a session\n",
    "sess.run(init) # initialize all variables\n",
    "\n",
    "for i in range(1000):\n",
    "    batch_X, batch_Y = mnist.train.next_batch(100) # get a batch of 100 images\n",
    "    train_data = {X: batch_X, Y_: batch_Y} # create a feed_dict\n",
    "    \n",
    "    sess.run(train_step, train_data)\n",
    "    \n",
    "    # remove comments to show accuracy at each training step\n",
    "    # is_correct = tf.equal(tf.argmax(Y,1), tf.argmax(Y_,1))\n",
    "    # accuracy = tf.reduce_mean(tf.cast(is_correct, tf.float32))\n",
    "    # a,c = sess.run([accuracy, cross_entropy], train_data)\n",
    "    # print(\"\\nTraining accuracy: \" + str(a) + \" Training loss: \" + str(c))\n",
    "\n",
    "# check accuracy on test data\n",
    "is_correct = tf.equal(tf.argmax(Y,1), tf.argmax(Y_,1))\n",
    "accuracy = tf.reduce_mean(tf.cast(is_correct, tf.float32))\n",
    "test_data = {X: mnist.test.images, Y_: mnist.test.labels}\n",
    "a,c = sess.run([accuracy, cross_entropy], test_data)\n",
    "\n",
    "print(\"\\nTest accuracy: \" + str(a) + \"\\nTest loss: \" + str(c))"
   ]
  }
 ],
 "metadata": {
  "kernelspec": {
   "display_name": "Python 3",
   "language": "python",
   "name": "python3"
  },
  "language_info": {
   "codemirror_mode": {
    "name": "ipython",
    "version": 3
   },
   "file_extension": ".py",
   "mimetype": "text/x-python",
   "name": "python",
   "nbconvert_exporter": "python",
   "pygments_lexer": "ipython3",
   "version": "3.5.0"
  }
 },
 "nbformat": 4,
 "nbformat_minor": 2
}
