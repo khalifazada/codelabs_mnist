{
 "cells": [
  {
   "cell_type": "code",
   "execution_count": 44,
   "metadata": {
    "collapsed": false,
    "deletable": true,
    "editable": true
   },
   "outputs": [
    {
     "name": "stdout",
     "output_type": "stream",
     "text": [
      "Extracting ..\\data\\train-images-idx3-ubyte.gz\n",
      "Extracting ..\\data\\train-labels-idx1-ubyte.gz\n",
      "Extracting ..\\data\\t10k-images-idx3-ubyte.gz\n",
      "Extracting ..\\data\\t10k-labels-idx1-ubyte.gz\n",
      "\n",
      "Test accuracy: 0.9172\n",
      "Test loss: 2954.05\n"
     ]
    }
   ],
   "source": [
    "import numpy as np\n",
    "import tensorflow as tf\n",
    "from tensorflow.contrib.learn.python.learn.datasets.mnist import read_data_sets\n",
    "\n",
    "mnist = read_data_sets(\"..\\data\", one_hot=True, reshape=False, validation_size=0)\n",
    "tf.set_random_seed(0)\n",
    "\n",
    "# Single layer model with [input]->[10 neuron output] network architecture\n",
    "#\n",
    "# An input of 100 28x28 pixel images will enter the network here\n",
    "X = tf.placeholder(tf.float32, [None, 28, 28, 1]) \n",
    "\n",
    "# 100 images reshaped to a [100x784] matrix\n",
    "X_ = tf.reshape(X, [-1, 784]) # \"-1\" = preserves total number of elements\n",
    "\n",
    "# creating the model\n",
    "W = tf.Variable(tf.truncated_normal([784, 10], stddev=0.1)) # weights\n",
    "b = tf.Variable(tf.zeros([10])) # bias\n",
    "Y = tf.nn.softmax(tf.matmul(X_, W) + b) # [100*784]*[784*10]+b -> [100x10]\n",
    "\n",
    "# determine optimization method\n",
    "Y_ = tf.placeholder(tf.float32, [None, 10]) # actual correct results\n",
    "cross_entropy = -tf.reduce_sum(Y_ * tf.log(Y)) # loss function\n",
    "eta = 0.004 # learning rate\n",
    "optimizer = tf.train.GradientDescentOptimizer(eta) # select how optimization will happen\n",
    "train_step = optimizer.minimize(cross_entropy)\n",
    "\n",
    "# initialize all variables\n",
    "init = tf.global_variables_initializer()\n",
    "sess = tf.Session() # create a session\n",
    "sess.run(init)\n",
    "\n",
    "# train the model\n",
    "for i in range(1000):\n",
    "    batch_X, batch_Y = mnist.train.next_batch(100) # get a batch of 100 images\n",
    "    train_data = {X: batch_X, Y_: batch_Y} # create a feed_dict\n",
    "    \n",
    "    sess.run(train_step, train_data)\n",
    "    \n",
    "# check accuracy on test data\n",
    "is_correct = tf.equal(tf.argmax(Y,1), tf.argmax(Y_,1))\n",
    "accuracy = tf.reduce_mean(tf.cast(is_correct, tf.float32))\n",
    "test_data = {X: mnist.test.images, Y_: mnist.test.labels}\n",
    "a,c = sess.run([accuracy, cross_entropy], test_data)\n",
    "\n",
    "print(\"\\nTest accuracy: \" + str(a) + \"\\nTest loss: \" + str(c))"
   ]
  },
  {
   "cell_type": "code",
   "execution_count": null,
   "metadata": {
    "collapsed": true
   },
   "outputs": [],
   "source": []
  }
 ],
 "metadata": {
  "kernelspec": {
   "display_name": "Python 3",
   "language": "python",
   "name": "python3"
  },
  "language_info": {
   "codemirror_mode": {
    "name": "ipython",
    "version": 3
   },
   "file_extension": ".py",
   "mimetype": "text/x-python",
   "name": "python",
   "nbconvert_exporter": "python",
   "pygments_lexer": "ipython3",
   "version": "3.5.0"
  }
 },
 "nbformat": 4,
 "nbformat_minor": 2
}
