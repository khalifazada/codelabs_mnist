{
 "cells": [
  {
   "cell_type": "code",
   "execution_count": 20,
   "metadata": {
    "collapsed": false,
    "deletable": true,
    "editable": true
   },
   "outputs": [],
   "source": [
    "import numpy as np\n",
    "import tensorflow as tf\n",
    "\n",
    "# creating the softmax model\n",
    "X = tf.placeholder(tf.float32, [None, 28, 28, 1]) # None will specify the number of 28x28 images, each pixel having 1 value\n",
    "W = tf.Variable(tf.zeros([784, 10])) # weights for 10 images\n",
    "b = tf.Variable(tf.zeros([10])) # bias for each neuron\n",
    "\n",
    "init = tf.global_variables_initializer()\n",
    "\n",
    "# model\n",
    "reshaped_X = tf.reshape(X, [-1, 784]) # reshape each image from 28x28 to 784x1, \"-1\" = figure out how\n",
    "X_mult_W = tf.matmul(reshaped_X, W) # multiply 2 matrices\n",
    "z = tf.add(X_mult_W, b) # add bias\n",
    "Y = tf.nn.softmax(z) # network computed results\n",
    "\n",
    "# optimising model\n",
    "Y_ = tf.placeholder(tf.float32, [None, 10]) # actual correct results\n",
    "cross_entropy = -tf.reduce_sum(Y_ * tf.log(Y)) # loss function\n",
    "eta = 0.003 # learning rate\n",
    "optimizer = tf.train.GradientDescentOptimizer(eta)\n",
    "train_step = optimizer.minimize(cross_entropy)"
   ]
  }
 ],
 "metadata": {
  "kernelspec": {
   "display_name": "Python 3",
   "language": "python",
   "name": "python3"
  },
  "language_info": {
   "codemirror_mode": {
    "name": "ipython",
    "version": 3
   },
   "file_extension": ".py",
   "mimetype": "text/x-python",
   "name": "python",
   "nbconvert_exporter": "python",
   "pygments_lexer": "ipython3",
   "version": "3.5.0"
  }
 },
 "nbformat": 4,
 "nbformat_minor": 2
}
